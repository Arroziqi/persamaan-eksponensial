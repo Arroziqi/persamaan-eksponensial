{
 "cells": [
  {
   "cell_type": "code",
   "execution_count": 1,
   "metadata": {},
   "outputs": [
    {
     "name": "stdout",
     "output_type": "stream",
     "text": [
      "Nilai k: 0.15043242494102688\n",
      "h ketika p = 900: 0.7862449931970451\n",
      "p ketika h = 50: 0.5482906536314631\n"
     ]
    }
   ],
   "source": [
    "import numpy as np\n",
    "\n",
    "def pressure(h, k):\n",
    "    return 1013 * np.exp(-k * h)\n",
    "\n",
    "def find_height(p_target, k):\n",
    "    return -np.log(p_target / 1013) / k\n",
    "\n",
    "# Hitung k\n",
    "k = - (np.log(50 / 1013) / 20)\n",
    "\n",
    "# Hitung h ketika p = 900\n",
    "h_when_p_900 = find_height(900, k)\n",
    "\n",
    "# Hitung p ketika h = 50\n",
    "p_when_h_50 = pressure(50, k)\n",
    "\n",
    "print(f\"Nilai k: {k}\")\n",
    "print(f\"h ketika p = 900: {h_when_p_900}\")\n",
    "print(f\"p ketika h = 50: {p_when_h_50}\")\n"
   ]
  },
  {
   "cell_type": "code",
   "execution_count": null,
   "metadata": {},
   "outputs": [],
   "source": []
  }
 ],
 "metadata": {
  "kernelspec": {
   "display_name": "Python 3",
   "language": "python",
   "name": "python3"
  },
  "language_info": {
   "codemirror_mode": {
    "name": "ipython",
    "version": 3
   },
   "file_extension": ".py",
   "mimetype": "text/x-python",
   "name": "python",
   "nbconvert_exporter": "python",
   "pygments_lexer": "ipython3",
   "version": "3.13.1"
  }
 },
 "nbformat": 4,
 "nbformat_minor": 2
}
